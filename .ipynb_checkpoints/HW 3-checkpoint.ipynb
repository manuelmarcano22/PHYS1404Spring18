{
 "cells": [
  {
   "cell_type": "markdown",
   "metadata": {},
   "source": [
    "# **Problem 4:** \n",
    "\n",
    "\n",
    "Two point charges, each of magnitude $3\\times 10^{-6} C$, but opposite sign, are placed 8 cm from point A, as in the diagram below. A point charge of magnitude $1\\times 1^{-6}$ C is placed at point A. \n",
    "\n",
    "![](./p4.png)\n",
    "\n",
    "Determine the magnitude and direction of the net electric force on the charge at point A. Show your work and explain your reasoning. \n",
    "\n",
    "\n",
    "\n",
    "We want to find the net force $F_{net}$ due to two charges for the charge placed at A. This charge feels two forces, $\\vec F_+$, which represents the force due to the positive charge and $\\vec F_-$ that represents the force that charge A feels due to the negative charge. So we have that:\n",
    "\n",
    "$$\\vec F_{net} = \\vec F_+ + \\vec F_-$$\n",
    "\n",
    "These forces are all vectos so to add them we need to decompose each forces into their X and Y components. We pick a coordinate system with X being along the line joining the two charges in the bottom of the triangle, and y being 'up' in the direction of charge A. \n",
    "\n",
    "We have them:\n",
    "\n",
    "## For $F_+$\n",
    "\n",
    "\n",
    "X-component: \n",
    "\n",
    "$$F_{+x} = + \\, |\\vec F_+ | \\cos(45^\\circ) = \\frac{k q_+ q_A}{r_+^2} \\cos(45^\\circ) $$\n",
    "\n",
    "Y-component: \n",
    "\n",
    "$$F_{+y} = + \\, |\\vec F_+ | \\sin(45^\\circ) = \\frac{k q_+ q_A}{r_+^2}\\sin(45^\\circ)  $$\n",
    "\n",
    "Where $q_+$ and $r_+$ represent the magnitude of positive charge and the distance to charge A. \n",
    "\n",
    "## For $F_-$\n",
    "\n",
    "\n",
    "$$F_{-x} = + \\, |\\vec F_- | \\cos(45^\\circ) = + \\,\\frac{k q_- q_A}{r_+^2} \\cos(45^\\circ) $$\n",
    "\n",
    "Y-component: \n",
    "\n",
    "$$F_{-y} = - \\, |\\vec F_- | \\sin(45^\\circ) = - \\, \\frac{k q_- q_A}{r_-^2}\\sin(45^\\circ)  $$\n",
    "\n",
    "Where $q_-$ and $r_-$ represent the magnitude of positive charge and the distance to charge A. \n",
    "\n",
    "Without plugging any number we already see that the net Force would be all in the positive $+X$ direction since both charges are equidistant and with the same charge magnitude. \n",
    "\n",
    "Now we can plugin the numbers"
   ]
  },
  {
   "cell_type": "code",
   "execution_count": 9,
   "metadata": {},
   "outputs": [
    {
     "name": "stdout",
     "output_type": "stream",
     "text": [
      "The magnitude of Net force on the charge at point A is 5.97 N\n"
     ]
    }
   ],
   "source": [
    "from math import cos, sin, pi\n",
    "## Define the variables\n",
    "k = 9*10**9; qplus = 3.0*10**(-6); qminus = 3.0*10**(-6); qa = 1*10**(-6);\n",
    "rplus = 0.08; rminus = 0.08\n",
    "degrees = 45*pi/180\n",
    "\n",
    "## Coulomb's Law:\n",
    "fnet =  2 * (k*qplus*qa)/(rplus**2) * cos(degrees)\n",
    "print('The magnitude of Net force on the charge at point A is {f:.3} N'.format(f=fnet))"
   ]
  },
  {
   "cell_type": "markdown",
   "metadata": {},
   "source": [
    "# Problem 5\n",
    "\n",
    "A 0.060 kg ball with charge $+3.0 \\times 10^{-6}$ C hangs from a 0.50 m long thread at an angle of $50^\\circ$ as in the picture below. The string is attached to the wall above a secon charged object. \n",
    "\n",
    "**a)**Determine the charge on the second object. Show your work.\n",
    "\n",
    "**b)** What other physical quantities could you determine? List the quantities\n",
    "\n",
    "**c)** Determine two of the quantities you listed in part (b). Show your work. \n",
    "\n",
    "\n",
    "![](p5.png)"
   ]
  },
  {
   "cell_type": "code",
   "execution_count": null,
   "metadata": {
    "collapsed": true
   },
   "outputs": [],
   "source": []
  }
 ],
 "metadata": {
  "kernelspec": {
   "display_name": "Python 3",
   "language": "python",
   "name": "python3"
  },
  "language_info": {
   "codemirror_mode": {
    "name": "ipython",
    "version": 3
   },
   "file_extension": ".py",
   "mimetype": "text/x-python",
   "name": "python",
   "nbconvert_exporter": "python",
   "pygments_lexer": "ipython3",
   "version": "3.6.1"
  }
 },
 "nbformat": 4,
 "nbformat_minor": 2
}
