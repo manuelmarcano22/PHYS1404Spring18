{
 "cells": [
  {
   "cell_type": "markdown",
   "metadata": {},
   "source": [
    "# Coulomb's Law\n",
    "\n",
    "## Problem 1 - 22.3.31 : \n",
    "\n",
    "Two point charges totaling **5.5 μC** exert a repulsive force of **0.02 N** on one another when separated by **0.25 m.**\n",
    "\n",
    "**Part (a)**  What is the charge on the larger of the two charges?\n",
    "\n",
    "**Part (b)**  What is the charge on the smaller of the two charges?\n",
    "\n",
    "This is an application of Coulomb's law. We use Coulomb's law to calculate the magnitude of the force between two charges $q_1$ and $q_2$. If the two charges have the same sign then the force is **repulsive**, if they are opposite sign then the force will be **attractive**. Let's write two equations to find $q_1$ and $q_2$ for the first case where they have the same sign and thus the force is a repulsive one. Let's assume both are positive and lets call $Q_{total}$ the total charge. . We know two things:\n",
    "\n",
    "\\begin{equation}\n",
    "q_1 + q_2 = Q_{total} = 5.5 \\times 10^{-6} C \n",
    "\\end{equation}\n",
    "\n",
    "\n",
    "this means that the to point charges add to a total of $5.5 \\,  \\mu C$. We also know the magnitude of the force $|\\vec F|$:\n",
    "\n",
    "\\begin{equation}\n",
    "|\\vec F| = \\frac{k q_1 q_2}{r^2} = 9\\times 10^9 \\frac{q_1 q_2}{0.25^2} = 0.02 \\, N\n",
    "\\end{equation}\n",
    "\n",
    "Now we the rest is algebra as we have two equations and two unknows. There are many know methods to find the solution. One is to substitute one equation into the other one, expand the equation and solve the quadractic equation obtained. Let's substitute the first equation into the second equation and we get:\n",
    "\n",
    "\\begin{equation}\n",
    " |\\vec F| = \\frac{k q_1 (Q - q_1)}{r^2} \n",
    "\\end{equation}\n",
    "\n",
    "We rearange and get:\n",
    "\n",
    "$$\\frac{|\\vec F | r^2 }{k} = q_1 \\, Q_{total} - q_1 ^2 $$\n",
    "\n",
    "$$ q_1 ^2 - Q_{total} \\, q_1 +  \\frac{|\\vec F | r^2 }{k} =0 $$\n",
    "\n",
    "We have a quadratic equation to solve and get $q_1$ we can apply the quadratic formula and for this specific numbers we get:\n",
    "\n",
    "$$ a = 1 \\, \\, ; b =  - Q_{total} \\, \\, ; c = \\frac{|\\vec F | r^2 }{k} $$\n",
    "\n",
    "and we remember:\n",
    "\n",
    "\\begin{array}{*{20}c} {x = \\frac{{ - b \\pm \\sqrt {b^2 - 4ac} }}{{2a}}} & {{\\rm{when}}} & {ax^2 + bx + c = 0} \\\\ \\end{array}\n",
    "\n",
    "\n",
    "\n"
   ]
  },
  {
   "cell_type": "code",
   "execution_count": 80,
   "metadata": {},
   "outputs": [
    {
     "data": {
      "text/markdown": [
       "### $q_1$ is equal to 5.4746304540453025e-06 or 2.536954595469736e-08 C"
      ],
      "text/plain": [
       "<IPython.core.display.Markdown object>"
      ]
     },
     "metadata": {},
     "output_type": "display_data"
    }
   ],
   "source": [
    "from math import sqrt\n",
    "from IPython.display import Markdown, display\n",
    "def printmd(string):\n",
    "    display(Markdown(string))\n",
    "\n",
    "## Define the variables\n",
    "k = 9*10**9; Q = 5.5*10**(-6); f = 0.02; r = 0.25\n",
    "\n",
    "\n",
    "##SOlve the quadratic equation\n",
    "a = 1; b = - Q; c = (f*r**2)/(k)\n",
    "q1_1 = (-b + sqrt(b**2-4*a*c))/(2*a); \n",
    "q1_2 = (-b - sqrt(b**2-4*a*c))/(2*a)\n",
    "\n",
    "##Result\n",
    "printmd('### $q_1$ is equal to {} or {} C'.format(q1_1, q1_2))"
   ]
  },
  {
   "cell_type": "markdown",
   "metadata": {},
   "source": [
    "# Attractive Force\n",
    "\n",
    "\n",
    "**Part (c)**  What is the charge on the larger charge (in magnitude) if the force is attractive?\n",
    "\n",
    "**Part (d)** What is the charge on the smaller charge (in magnitude) if the force is attractive?\n",
    "\n",
    "\n",
    "There are at least two ways of thinking about this problem. One way is to realize that the only way to have attraction is that if the two charges have oppositive charges or in other words:\n",
    "\n",
    "\n",
    "$$ q_1 - q_2 = Q_{total}$$ \n",
    "\n",
    "and still the **magnitude** of the force would be $|\\vec F|$:\n",
    "\n",
    "\n",
    "$$ \\left | \\frac{k q_1 q_2}{r^2} \\right | = | \\vec F | $$\n",
    "\n",
    "This gives us two equations and two unkwons to solve this problem. We compute the solution. Now we have:\n",
    "\n",
    "\n",
    "$$ a = +1 \\, \\, ; b =  + Q_{total} \\, \\, ; c = - \\frac{|\\vec F | r^2 }{k} $$"
   ]
  },
  {
   "cell_type": "code",
   "execution_count": 81,
   "metadata": {},
   "outputs": [
    {
     "data": {
      "text/markdown": [
       "### $q_1$ is equal to 2.513763422445221e-08 or -5.5251376342244525e-06 C"
      ],
      "text/plain": [
       "<IPython.core.display.Markdown object>"
      ]
     },
     "metadata": {},
     "output_type": "display_data"
    }
   ],
   "source": [
    "## Define the variables\n",
    "k = 9*10**9; Q = 5.5*10**(-6); f = 0.02; r = 0.25\n",
    "\n",
    "\n",
    "##SOlve the quadratic equation\n",
    "a = 1; b =  Q; c = -(f*r**2)/(k)\n",
    "q1_1 = (-b + sqrt(b**2-4*a*c))/(2*a); \n",
    "q1_2 = (-b - sqrt(b**2-4*a*c))/(2*a)\n",
    "\n",
    "##Result\n",
    "printmd('### $q_1$ is equal to {} or {} C'.format(q1_1, q1_2))"
   ]
  },
  {
   "cell_type": "markdown",
   "metadata": {},
   "source": [
    "Other way of thinking about this part of the problem is that the \"sign\" of the force changes. You should get the same result"
   ]
  },
  {
   "cell_type": "markdown",
   "metadata": {},
   "source": [
    "# Problem 3 - 22.3.14 :   "
   ]
  },
  {
   "cell_type": "markdown",
   "metadata": {},
   "source": [
    "Point charges located at 3, 8, and 11 cm along the x-axis are represented in the figure. "
   ]
  },
  {
   "cell_type": "markdown",
   "metadata": {},
   "source": [
    "   ![Problem 3](images/pp.png)\n",
    "\n",
    "\n",
    "**Part (a)**  What is the x-component of the force on the charge located at x = 8 cm given that q = 0.75 μC in N?"
   ]
  },
  {
   "cell_type": "markdown",
   "metadata": {},
   "source": [
    "This is an application of Coulomb's Law and the **principle of superposition**. The principle of superposition states that:\n",
    "\n",
    "> When more than two point charges are present. the force between any pair of charges is given by Coulomb's Law and the resultant **net** force on any of the charges is the **vector sum** of the forces due to the other individual charges. \n",
    "\n",
    "In this problem the charge at $x = 8 $ cm is feeling a net force due to both charges at $x = 3$ cm and $x = 11$ cm. So will label these forces $F_{3on8 }$ and $F_{11on8}$. $F_{3on8 }$ is the force the charge at $x=8$ cm feels due to the charge at $x=3$cm and $F_{11on8 }$ is the force the charge at $x=8$ cm feels due to the charge at $x=11$. We decompose it into it's X and Y component. The Y compoment is 0 since they are all in the same x axis, so we have:\n",
    "\n",
    "$$ F_{x 3on8} = - \\left \\| \\vec{F}_{x 3on8} \\right \\| $$\n",
    "\n",
    "$$ F_{y 3on8} = 0 $$\n",
    "\n",
    "And for $F_{11on8}$:\n",
    "\n",
    "$$ F_{x 11on8} = + \\left \\| \\vec{F}_{x 3on8} \\right \\| $$\n",
    "\n",
    "$$ F_{y 11on8} = 0 $$\n",
    "\n",
    "So we can find the net force by just adding their components. In this example it is trivial since the y component of all the forces are 0. \n",
    "\n",
    "$$ F_{Net \\,on 8} = F_{x 3on8} +F_{x 11on8}  = - \\left \\| \\vec{F}_{x 3on8} \\right \\|  +      \\left \\| \\vec{F}_{x 3on8} \\right \\| $$\n",
    "\n",
    "\n",
    "$$ F_{Net \\,on 8} = - \\frac{k q \\,  (2q)}{0.05^2} +  \\frac{k q \\, (2q)}{0.03^2}  $$\n",
    "\n",
    "In the problem it is stated that $q = 0.75 \\times 10^{-6} C$ so we plug in the numbers and get:\n",
    "\n",
    "\n",
    "\n",
    "\n"
   ]
  },
  {
   "cell_type": "code",
   "execution_count": 82,
   "metadata": {},
   "outputs": [
    {
     "data": {
      "text/markdown": [
       "### The Net force on the charge at X= 8cm is 7.2 N"
      ],
      "text/plain": [
       "<IPython.core.display.Markdown object>"
      ]
     },
     "metadata": {},
     "output_type": "display_data"
    }
   ],
   "source": [
    "## Define the variables\n",
    "k = 9*10**9; q = 0.75*10**(-6); r3 = 0.05; r11 = 0.03\n",
    "\n",
    "## Coulomb's Law:\n",
    "fnet = - (k*2*q*q)/(r3**2) + (k*2*q*q)/(r11**2)\n",
    "\n",
    "##Result\n",
    "printmd('### The Net force on the charge at X= 8cm is {f:.3} N'.format(f=fnet))"
   ]
  }
 ],
 "metadata": {
  "kernelspec": {
   "display_name": "Python 3",
   "language": "python",
   "name": "python3"
  },
  "language_info": {
   "codemirror_mode": {
    "name": "ipython",
    "version": 3
   },
   "file_extension": ".py",
   "mimetype": "text/x-python",
   "name": "python",
   "nbconvert_exporter": "python",
   "pygments_lexer": "ipython3",
   "version": "3.6.1"
  }
 },
 "nbformat": 4,
 "nbformat_minor": 2
}
